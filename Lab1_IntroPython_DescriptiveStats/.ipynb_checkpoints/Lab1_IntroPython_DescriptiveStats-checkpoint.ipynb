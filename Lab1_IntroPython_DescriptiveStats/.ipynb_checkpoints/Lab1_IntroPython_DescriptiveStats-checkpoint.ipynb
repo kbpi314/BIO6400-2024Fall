{
 "cells": [
  {
   "cell_type": "markdown",
   "id": "1fac85a2-3f1d-4667-ba8e-02e2ab68a33a",
   "metadata": {},
   "source": [
    "# **Lab 1:** Intro Python and Descriptive Statistics #\n",
    "Date TBD\n",
    "\n"
   ]
  },
  {
   "cell_type": "markdown",
   "id": "c154de75-7ee5-4982-8b93-ec58707a413a",
   "metadata": {},
   "source": [
    "## **Example 1:** Reading ni.2789.clinical ##"
   ]
  },
  {
   "cell_type": "code",
   "execution_count": 2,
   "id": "dc7d5aa8-43ba-4d88-954c-a43486791a6b",
   "metadata": {},
   "outputs": [
    {
     "data": {
      "text/html": [
       "<div>\n",
       "<style scoped>\n",
       "    .dataframe tbody tr th:only-of-type {\n",
       "        vertical-align: middle;\n",
       "    }\n",
       "\n",
       "    .dataframe tbody tr th {\n",
       "        vertical-align: top;\n",
       "    }\n",
       "\n",
       "    .dataframe thead th {\n",
       "        text-align: right;\n",
       "    }\n",
       "</style>\n",
       "<table border=\"1\" class=\"dataframe\">\n",
       "  <thead>\n",
       "    <tr style=\"text-align: right;\">\n",
       "      <th></th>\n",
       "      <th>Vaccine</th>\n",
       "      <th>Subject</th>\n",
       "      <th>Gender</th>\n",
       "      <th>Race</th>\n",
       "      <th>Age</th>\n",
       "      <th>Visit</th>\n",
       "      <th>Visit.Num</th>\n",
       "      <th>IgG1A</th>\n",
       "      <th>IgG1C</th>\n",
       "      <th>IgG2A</th>\n",
       "      <th>IgG2C</th>\n",
       "      <th>IgGA</th>\n",
       "      <th>IgGC</th>\n",
       "      <th>IgMA</th>\n",
       "      <th>IgMC</th>\n",
       "      <th>Luminex.Anti.DT.IgGAU.ml</th>\n",
       "      <th>SBA.titerA</th>\n",
       "      <th>SBA.titerA.Dutch</th>\n",
       "      <th>SBA.titerC</th>\n",
       "    </tr>\n",
       "  </thead>\n",
       "  <tbody>\n",
       "    <tr>\n",
       "      <th>0</th>\n",
       "      <td>MCV4</td>\n",
       "      <td>Men01</td>\n",
       "      <td>F</td>\n",
       "      <td>AA</td>\n",
       "      <td>41</td>\n",
       "      <td>day0</td>\n",
       "      <td>0</td>\n",
       "      <td>0.35</td>\n",
       "      <td>0.01</td>\n",
       "      <td>5.46</td>\n",
       "      <td>0.01</td>\n",
       "      <td>5.24</td>\n",
       "      <td>0.06</td>\n",
       "      <td>2.21</td>\n",
       "      <td>0.010</td>\n",
       "      <td>12.39</td>\n",
       "      <td>2916.0</td>\n",
       "      <td>1.3</td>\n",
       "      <td>36.0</td>\n",
       "    </tr>\n",
       "    <tr>\n",
       "      <th>1</th>\n",
       "      <td>MCV4</td>\n",
       "      <td>Men01</td>\n",
       "      <td>F</td>\n",
       "      <td>AA</td>\n",
       "      <td>41</td>\n",
       "      <td>day7</td>\n",
       "      <td>7</td>\n",
       "      <td>NaN</td>\n",
       "      <td>NaN</td>\n",
       "      <td>NaN</td>\n",
       "      <td>NaN</td>\n",
       "      <td>NaN</td>\n",
       "      <td>NaN</td>\n",
       "      <td>4.68</td>\n",
       "      <td>8.040</td>\n",
       "      <td>429.65</td>\n",
       "      <td>NaN</td>\n",
       "      <td>NaN</td>\n",
       "      <td>NaN</td>\n",
       "    </tr>\n",
       "    <tr>\n",
       "      <th>2</th>\n",
       "      <td>MCV4</td>\n",
       "      <td>Men01</td>\n",
       "      <td>F</td>\n",
       "      <td>AA</td>\n",
       "      <td>41</td>\n",
       "      <td>day30</td>\n",
       "      <td>30</td>\n",
       "      <td>11.84</td>\n",
       "      <td>37.80</td>\n",
       "      <td>49.93</td>\n",
       "      <td>10.50</td>\n",
       "      <td>36.72</td>\n",
       "      <td>14.72</td>\n",
       "      <td>7.77</td>\n",
       "      <td>21.960</td>\n",
       "      <td>708.25</td>\n",
       "      <td>26244.0</td>\n",
       "      <td>2916.0</td>\n",
       "      <td>26244.0</td>\n",
       "    </tr>\n",
       "    <tr>\n",
       "      <th>3</th>\n",
       "      <td>MCV4</td>\n",
       "      <td>Men01</td>\n",
       "      <td>F</td>\n",
       "      <td>AA</td>\n",
       "      <td>41</td>\n",
       "      <td>day180</td>\n",
       "      <td>180</td>\n",
       "      <td>NaN</td>\n",
       "      <td>NaN</td>\n",
       "      <td>NaN</td>\n",
       "      <td>NaN</td>\n",
       "      <td>27.61</td>\n",
       "      <td>2.99</td>\n",
       "      <td>NaN</td>\n",
       "      <td>NaN</td>\n",
       "      <td>NaN</td>\n",
       "      <td>8748.0</td>\n",
       "      <td>2916.0</td>\n",
       "      <td>26244.0</td>\n",
       "    </tr>\n",
       "    <tr>\n",
       "      <th>4</th>\n",
       "      <td>MCV4</td>\n",
       "      <td>Men03</td>\n",
       "      <td>F</td>\n",
       "      <td>AA</td>\n",
       "      <td>27</td>\n",
       "      <td>day0</td>\n",
       "      <td>0</td>\n",
       "      <td>0.61</td>\n",
       "      <td>0.01</td>\n",
       "      <td>0.01</td>\n",
       "      <td>0.01</td>\n",
       "      <td>0.59</td>\n",
       "      <td>0.09</td>\n",
       "      <td>2.58</td>\n",
       "      <td>1.144</td>\n",
       "      <td>12.35</td>\n",
       "      <td>8748.0</td>\n",
       "      <td>1.3</td>\n",
       "      <td>1.3</td>\n",
       "    </tr>\n",
       "  </tbody>\n",
       "</table>\n",
       "</div>"
      ],
      "text/plain": [
       "  Vaccine Subject Gender Race  Age   Visit  Visit.Num  IgG1A  IgG1C  IgG2A  \\\n",
       "0    MCV4   Men01      F   AA   41    day0          0   0.35   0.01   5.46   \n",
       "1    MCV4   Men01      F   AA   41    day7          7    NaN    NaN    NaN   \n",
       "2    MCV4   Men01      F   AA   41   day30         30  11.84  37.80  49.93   \n",
       "3    MCV4   Men01      F   AA   41  day180        180    NaN    NaN    NaN   \n",
       "4    MCV4   Men03      F   AA   27    day0          0   0.61   0.01   0.01   \n",
       "\n",
       "   IgG2C   IgGA   IgGC  IgMA    IgMC  Luminex.Anti.DT.IgGAU.ml  SBA.titerA  \\\n",
       "0   0.01   5.24   0.06  2.21   0.010                     12.39      2916.0   \n",
       "1    NaN    NaN    NaN  4.68   8.040                    429.65         NaN   \n",
       "2  10.50  36.72  14.72  7.77  21.960                    708.25     26244.0   \n",
       "3    NaN  27.61   2.99   NaN     NaN                       NaN      8748.0   \n",
       "4   0.01   0.59   0.09  2.58   1.144                     12.35      8748.0   \n",
       "\n",
       "   SBA.titerA.Dutch  SBA.titerC  \n",
       "0               1.3        36.0  \n",
       "1               NaN         NaN  \n",
       "2            2916.0     26244.0  \n",
       "3            2916.0     26244.0  \n",
       "4               1.3         1.3  "
      ]
     },
     "execution_count": 2,
     "metadata": {},
     "output_type": "execute_result"
    }
   ],
   "source": [
    "# help(pd.read_csv)\n",
    "# note: ~ usually refers to your specific user dir so ~/Desktop is the same as /Users/KevinBu/Desktop\n",
    "import pandas as pd\n",
    "ni_db = pd.read_csv('/Users/KevinBu/Desktop/BIO6400/Python_Labs/Lab1_IntroPython_DescriptiveStats/ni.2789.clinical.csv')\n",
    "ni_db.head()"
   ]
  },
  {
   "cell_type": "markdown",
   "id": "1b8a2342-c883-489e-9ab7-440a71d283dc",
   "metadata": {},
   "source": [
    "## **Example 2:** Creating lists/arrays ##"
   ]
  },
  {
   "cell_type": "code",
   "execution_count": 48,
   "id": "7b684cd8-f6fc-41c0-a356-f0ba4a2b3968",
   "metadata": {},
   "outputs": [
    {
     "name": "stdout",
     "output_type": "stream",
     "text": [
      "a. There are 2 TAs in this course.\n",
      "\n",
      "b. The first element of 'TAs' is Sally\n",
      "\n",
      "c. The pd.Series version of 'age' is: \n",
      "0      41\n",
      "1      41\n",
      "2      41\n",
      "3      41\n",
      "4      27\n",
      "       ..\n",
      "115    39\n",
      "116    28\n",
      "117    28\n",
      "118    28\n",
      "119    28\n",
      "Name: Age, Length: 120, dtype: int64\n",
      "\n",
      " d. The np.array form of 'age' is: \n",
      "[41 41 41 41 27 27 27 27 40 40 40 40 33 33 33 33 29 29 29 29 30 30 30 30\n",
      " 29 29 29 29 26 26 26 26 44 44 44 44 27 27 27 27 22 22 22 22 28 28 28 28\n",
      " 26 26 26 26 40 40 40 40 23 23 23 23 40 40 40 40 35 35 35 35 43 43 43 43\n",
      " 38 38 38 38 40 40 40 40 28 28 28 28 26 26 26 26 30 30 30 30 37 37 37 37\n",
      " 38 38 38 38 36 36 36 36 34 34 34 34 38 38 38 38 39 39 39 39 28 28 28 28]\n",
      "\n",
      " e. The first 10 values of 'age' are [41 41 41 41 27 27 27 27 40 40]\n"
     ]
    }
   ],
   "source": [
    "## Creating a new list\n",
    "TAs = [\"Sally\", \"Catherine\"]\n",
    "\n",
    "# How many elements are in this list?\n",
    "print(f\"a. There are {len(TAs)} TAs in this course.\\n\")\n",
    "\n",
    "# Accessing the 1st element\n",
    "print(f\"b. The first element of 'TAs' is {TAs[0]}\\n\")\n",
    "\n",
    "# Creating a new pd.Series from a column of a pd.DataFrame\n",
    "age = ni_db['Age']\n",
    "print(\"c. The pd.Series version of 'age' is: \")\n",
    "print(age)\n",
    "print(\"\\nd. The np.array form of 'age' is: \")\n",
    "print(age.values)\n",
    "\n",
    "# You can specify a range of elements\n",
    "# Python is inclusive at lower bound and exclusive at upper bound, also 0-indexed\n",
    "print(f\"\\ne. The first 10 values of 'age' are {age.values[0:10]}\") "
   ]
  },
  {
   "cell_type": "markdown",
   "id": "bf9b766a-b268-406f-bf6c-59b2a550fb38",
   "metadata": {},
   "source": [
    "## **Example 3:** Accessing the elements of a pd.DataFrame ##"
   ]
  },
  {
   "cell_type": "code",
   "execution_count": 28,
   "id": "1b27111a-8bcd-4565-a894-c3d0cc334f4e",
   "metadata": {},
   "outputs": [
    {
     "name": "stdout",
     "output_type": "stream",
     "text": [
      "a. The columns of 'ni_db' are \n",
      "Index(['Vaccine', 'Subject', 'Gender', 'Race', 'Age', 'Visit', 'Visit.Num',\n",
      "       'IgG1A', 'IgG1C', 'IgG2A', 'IgG2C', 'IgGA', 'IgGC', 'IgMA', 'IgMC',\n",
      "       'Luminex.Anti.DT.IgGAU.ml', 'SBA.titerA', 'SBA.titerA.Dutch',\n",
      "       'SBA.titerC'],\n",
      "      dtype='object')\n",
      "\n",
      "b. The values of the 'age' column are: \n",
      "[41 41 41 41 27 27 27 27 40 40 40 40 33 33 33 33 29 29 29 29 30 30 30 30\n",
      " 29 29 29 29 26 26 26 26 44 44 44 44 27 27 27 27 22 22 22 22 28 28 28 28\n",
      " 26 26 26 26 40 40 40 40 23 23 23 23 40 40 40 40 35 35 35 35 43 43 43 43\n",
      " 38 38 38 38 40 40 40 40 28 28 28 28 26 26 26 26 30 30 30 30 37 37 37 37\n",
      " 38 38 38 38 36 36 36 36 34 34 34 34 38 38 38 38 39 39 39 39 28 28 28 28]\n"
     ]
    }
   ],
   "source": [
    "# colnames(ni.db)\n",
    "print(\"a. The columns of 'ni_db' are \")\n",
    "print(ni_db.columns)\n",
    "\n",
    "print(\"\\nb. The values of the 'age' column are: \")\n",
    "print(ni_db.Age.values)\n",
    "\n",
    "# equivalently, one can use ni_db['Age'].values,  ni_db.loc[:,'Age'].values OR ni_db.iloc[:,4].values\n",
    "# note that the method <dataframe>.loc[a,b] or .iloc[a,b] requires two arguments, a = subset of rows, b = subset of columns\n",
    "# use ':' if you want all of the rows or columns "
   ]
  },
  {
   "cell_type": "markdown",
   "id": "d8c99dc1-f113-41f1-b9ef-8aec406b4c85",
   "metadata": {},
   "source": [
    "## **Example 4:** Exploring the structure of your data ##"
   ]
  },
  {
   "cell_type": "code",
   "execution_count": 56,
   "id": "33082393-5212-457c-9062-afb4a9e229f5",
   "metadata": {},
   "outputs": [
    {
     "name": "stdout",
     "output_type": "stream",
     "text": [
      "a. The type of 'ni_db' is: <class 'pandas.core.frame.DataFrame'>\n",
      "\n",
      "b. The dimensions of 'ni_db' is: (120, 19)\n",
      "equating to 120 rows/samples and 19 columns/variables\n",
      "\n",
      "c. To grab the first 7 observations and the first 5 variables (arbitrarily), we can use: \n",
      "  Vaccine Subject Gender Race  Age\n",
      "0    MCV4   Men01      F   AA   41\n",
      "1    MCV4   Men01      F   AA   41\n",
      "2    MCV4   Men01      F   AA   41\n",
      "3    MCV4   Men01      F   AA   41\n",
      "4    MCV4   Men03      F   AA   27\n",
      "5    MCV4   Men03      F   AA   27\n",
      "6    MCV4   Men03      F   AA   27\n",
      "\n",
      "d. 'df.info()' tells us a summary of the dataframe on a per-column basis: \n",
      "<class 'pandas.core.frame.DataFrame'>\n",
      "RangeIndex: 120 entries, 0 to 119\n",
      "Data columns (total 19 columns):\n",
      " #   Column                    Non-Null Count  Dtype  \n",
      "---  ------                    --------------  -----  \n",
      " 0   Vaccine                   120 non-null    object \n",
      " 1   Subject                   120 non-null    object \n",
      " 2   Gender                    120 non-null    object \n",
      " 3   Race                      120 non-null    object \n",
      " 4   Age                       120 non-null    int64  \n",
      " 5   Visit                     120 non-null    object \n",
      " 6   Visit.Num                 120 non-null    int64  \n",
      " 7   IgG1A                     60 non-null     float64\n",
      " 8   IgG1C                     60 non-null     float64\n",
      " 9   IgG2A                     60 non-null     float64\n",
      " 10  IgG2C                     60 non-null     float64\n",
      " 11  IgGA                      90 non-null     float64\n",
      " 12  IgGC                      90 non-null     float64\n",
      " 13  IgMA                      90 non-null     float64\n",
      " 14  IgMC                      90 non-null     float64\n",
      " 15  Luminex.Anti.DT.IgGAU.ml  90 non-null     float64\n",
      " 16  SBA.titerA                90 non-null     float64\n",
      " 17  SBA.titerA.Dutch          90 non-null     float64\n",
      " 18  SBA.titerC                90 non-null     float64\n",
      "dtypes: float64(12), int64(2), object(5)\n",
      "memory usage: 17.9+ KB\n",
      "None\n",
      "\n",
      "e. 'df.describe()' tells us a 'summary' (like in R) of each numerical column: \n",
      "       Vaccine Subject Gender Race         Age Visit  Visit.Num      IgG1A  \\\n",
      "count      120     120    120  120  120.000000   120  120.00000  60.000000   \n",
      "unique       2      30      2    4         NaN     4        NaN        NaN   \n",
      "top       MCV4   Men01      F   AA         NaN  day0        NaN        NaN   \n",
      "freq        68       4     80   56         NaN    30        NaN        NaN   \n",
      "mean       NaN     NaN    NaN  NaN   33.166667   NaN   54.25000   6.362833   \n",
      "std        NaN     NaN    NaN  NaN    6.314360   NaN   73.75308  13.289231   \n",
      "min        NaN     NaN    NaN  NaN   22.000000   NaN    0.00000   0.010000   \n",
      "25%        NaN     NaN    NaN  NaN   28.000000   NaN    5.25000   0.010000   \n",
      "50%        NaN     NaN    NaN  NaN   33.500000   NaN   18.50000   0.500000   \n",
      "75%        NaN     NaN    NaN  NaN   39.000000   NaN   67.50000   4.415000   \n",
      "max        NaN     NaN    NaN  NaN   44.000000   NaN  180.00000  75.970000   \n",
      "\n",
      "             IgG1C       IgG2A       IgG2C        IgGA        IgGC       IgMA  \\\n",
      "count    60.000000   60.000000   60.000000   90.000000   90.000000  90.000000   \n",
      "unique         NaN         NaN         NaN         NaN         NaN        NaN   \n",
      "top            NaN         NaN         NaN         NaN         NaN        NaN   \n",
      "freq           NaN         NaN         NaN         NaN         NaN        NaN   \n",
      "mean     11.350500   32.942667    9.732333   40.417778   15.796667   9.507556   \n",
      "std      42.977025   83.341509   23.307932   98.660679   33.916116   9.146797   \n",
      "min       0.000000    0.010000    0.010000    0.250000    0.050000   0.530000   \n",
      "25%       0.010000    0.010000    0.010000    2.352500    0.552500   2.920000   \n",
      "50%       0.585000    6.070000    1.265000   11.495000    2.265000   7.055000   \n",
      "75%       3.675000   20.447500    5.762500   37.487500   12.715000  12.762500   \n",
      "max     318.640000  573.700000  128.620000  707.800000  182.000000  43.890000   \n",
      "\n",
      "             IgMC  Luminex.Anti.DT.IgGAU.ml    SBA.titerA  SBA.titerA.Dutch  \\\n",
      "count   90.000000                 90.000000     90.000000         90.000000   \n",
      "unique        NaN                       NaN           NaN               NaN   \n",
      "top           NaN                       NaN           NaN               NaN   \n",
      "freq          NaN                       NaN           NaN               NaN   \n",
      "mean     3.456544                 73.467556  30501.600000      15929.302222   \n",
      "std      7.754318                123.981526  32222.755099      28430.041764   \n",
      "min      0.010000                  0.750000    108.000000          1.300000   \n",
      "25%      0.552750                  2.990000   2916.000000        108.000000   \n",
      "50%      1.041500                 10.875000  26244.000000       2916.000000   \n",
      "75%      2.667500                107.665000  78732.000000       8748.000000   \n",
      "max     53.480000                708.250000  78732.000000      78732.000000   \n",
      "\n",
      "          SBA.titerC  \n",
      "count      90.000000  \n",
      "unique           NaN  \n",
      "top              NaN  \n",
      "freq             NaN  \n",
      "mean    19818.237778  \n",
      "std     30592.482211  \n",
      "min         1.300000  \n",
      "25%        36.000000  \n",
      "50%      2916.000000  \n",
      "75%     26244.000000  \n",
      "max     78732.000000  \n",
      "\n",
      "f. To get the value distribution for a particular column, you can use '<df.column>.value_counts()':\n",
      "Age\n",
      "40    16\n",
      "26    12\n",
      "28    12\n",
      "38    12\n",
      "30     8\n",
      "27     8\n",
      "29     8\n",
      "41     4\n",
      "44     4\n",
      "33     4\n",
      "22     4\n",
      "23     4\n",
      "35     4\n",
      "43     4\n",
      "37     4\n",
      "36     4\n",
      "34     4\n",
      "39     4\n",
      "Name: count, dtype: int64\n"
     ]
    }
   ],
   "source": [
    "# type of the Python object (i.e. data.frame/array/list/series)\n",
    "print(f\"a. The type of 'ni_db' is: {type(ni_db)}\\n\")\n",
    "\n",
    "print(f\"b. The dimensions of 'ni_db' is: {ni_db.shape}\")\n",
    "print(f\"equating to {ni_db.shape[0]} rows/samples and {ni_db.shape[1]} columns/variables\\n\")\n",
    "\n",
    "\n",
    "print(\"c. To grab the first 7 observations and the first 5 variables (arbitrarily), we can use: \")\n",
    "print(ni_db.iloc[0:7, 0:5])\n",
    "\n",
    "print(\"\\nd. 'df.info()' tells us a summary of the dataframe on a per-column basis: \")\n",
    "print(ni_db.info())\n",
    "\n",
    "print(\"\\ne. 'df.describe()' tells us a 'summary' (like in R) of each numerical column: \")\n",
    "#To include non-numerical columns, you can pass include='all':\n",
    "print(ni_db.describe(include='all'))\n",
    "\n",
    "print(\"\\nf. To get the value distribution for a particular column, you can use '<df.column>.value_counts()':\")\n",
    "print(ni_db['Age'].value_counts())\n",
    "\n",
    "# Other handy commands\n",
    "# 1. ni_db.dtypes: Displays the data type of each column.\n",
    "# 2. ni_db.isnull().sum(): Returns the number of missing values in each column.\n",
    "# 3. ni_db.size: Returns the total number of elements in the DataFrame.\n",
    "# You can do any of these on a subset of the dataframe, e.g. for the first 5 variables, ni_db.iloc[:,:5].describe())\n",
    "# Note that :5 is the same as slicing by 0:5"
   ]
  },
  {
   "cell_type": "markdown",
   "id": "220c15d1-ccfc-4ac5-9428-8505d895df92",
   "metadata": {},
   "source": [
    "## **Example 5:** Adding / changing variables ##"
   ]
  },
  {
   "cell_type": "code",
   "execution_count": 63,
   "id": "90330ff2-2e12-4852-9587-b848f643bc91",
   "metadata": {},
   "outputs": [
    {
     "name": "stdout",
     "output_type": "stream",
     "text": [
      "Our new dataframe (with relevant columns subsetted) looks like this:\n"
     ]
    },
    {
     "data": {
      "text/html": [
       "<div>\n",
       "<style scoped>\n",
       "    .dataframe tbody tr th:only-of-type {\n",
       "        vertical-align: middle;\n",
       "    }\n",
       "\n",
       "    .dataframe tbody tr th {\n",
       "        vertical-align: top;\n",
       "    }\n",
       "\n",
       "    .dataframe thead th {\n",
       "        text-align: right;\n",
       "    }\n",
       "</style>\n",
       "<table border=\"1\" class=\"dataframe\">\n",
       "  <thead>\n",
       "    <tr style=\"text-align: right;\">\n",
       "      <th></th>\n",
       "      <th>Subject</th>\n",
       "      <th>Age</th>\n",
       "      <th>ageF</th>\n",
       "      <th>Researcher</th>\n",
       "    </tr>\n",
       "  </thead>\n",
       "  <tbody>\n",
       "    <tr>\n",
       "      <th>0</th>\n",
       "      <td>Men01</td>\n",
       "      <td>41</td>\n",
       "      <td>&gt; = 33</td>\n",
       "      <td>Maria</td>\n",
       "    </tr>\n",
       "    <tr>\n",
       "      <th>1</th>\n",
       "      <td>Men01</td>\n",
       "      <td>41</td>\n",
       "      <td>&gt; = 33</td>\n",
       "      <td>Maria</td>\n",
       "    </tr>\n",
       "    <tr>\n",
       "      <th>2</th>\n",
       "      <td>Men01</td>\n",
       "      <td>41</td>\n",
       "      <td>&gt; = 33</td>\n",
       "      <td>Maria</td>\n",
       "    </tr>\n",
       "    <tr>\n",
       "      <th>3</th>\n",
       "      <td>Men01</td>\n",
       "      <td>41</td>\n",
       "      <td>&gt; = 33</td>\n",
       "      <td>Maria</td>\n",
       "    </tr>\n",
       "    <tr>\n",
       "      <th>4</th>\n",
       "      <td>Men03</td>\n",
       "      <td>27</td>\n",
       "      <td>&lt;33</td>\n",
       "      <td>Maria</td>\n",
       "    </tr>\n",
       "  </tbody>\n",
       "</table>\n",
       "</div>"
      ],
      "text/plain": [
       "  Subject  Age    ageF Researcher\n",
       "0   Men01   41  > = 33      Maria\n",
       "1   Men01   41  > = 33      Maria\n",
       "2   Men01   41  > = 33      Maria\n",
       "3   Men01   41  > = 33      Maria\n",
       "4   Men03   27     <33      Maria"
      ]
     },
     "execution_count": 63,
     "metadata": {},
     "output_type": "execute_result"
    }
   ],
   "source": [
    "# Creating a new column generically\n",
    "ni_db['Researcher'] = \"Maria\"\n",
    "\n",
    "# Creating a new column conditionally\n",
    "# The conditional will create strings, so ni_db['ageF'].dtypes will also be str \n",
    "ni_db['ageF'] = ni_db['Age'].apply(lambda x: '<33' if x < 33 else '> = 33')\n",
    "\n",
    "# Examining the new dataframe (note the double brackets for indexing with a list of column names!)\n",
    "print(\"Our new dataframe (with relevant columns subsetted) looks like this:\")\n",
    "ni_db[['Subject','Age','ageF','Researcher']].head()\n"
   ]
  },
  {
   "cell_type": "markdown",
   "id": "2106899c-c401-43a7-8a5c-7643afe798cd",
   "metadata": {},
   "source": [
    "## **Example 6:** Subsetting data ##"
   ]
  },
  {
   "cell_type": "code",
   "execution_count": 62,
   "id": "492664a1-0969-4d8d-a2f2-805b945f2346",
   "metadata": {},
   "outputs": [
    {
     "data": {
      "text/html": [
       "<div>\n",
       "<style scoped>\n",
       "    .dataframe tbody tr th:only-of-type {\n",
       "        vertical-align: middle;\n",
       "    }\n",
       "\n",
       "    .dataframe tbody tr th {\n",
       "        vertical-align: top;\n",
       "    }\n",
       "\n",
       "    .dataframe thead th {\n",
       "        text-align: right;\n",
       "    }\n",
       "</style>\n",
       "<table border=\"1\" class=\"dataframe\">\n",
       "  <thead>\n",
       "    <tr style=\"text-align: right;\">\n",
       "      <th></th>\n",
       "      <th>Vaccine</th>\n",
       "      <th>Subject</th>\n",
       "      <th>Gender</th>\n",
       "      <th>Race</th>\n",
       "      <th>Age</th>\n",
       "      <th>Visit</th>\n",
       "      <th>Visit.Num</th>\n",
       "      <th>IgG1A</th>\n",
       "      <th>IgG1C</th>\n",
       "      <th>IgG2A</th>\n",
       "      <th>...</th>\n",
       "      <th>IgGA</th>\n",
       "      <th>IgGC</th>\n",
       "      <th>IgMA</th>\n",
       "      <th>IgMC</th>\n",
       "      <th>Luminex.Anti.DT.IgGAU.ml</th>\n",
       "      <th>SBA.titerA</th>\n",
       "      <th>SBA.titerA.Dutch</th>\n",
       "      <th>SBA.titerC</th>\n",
       "      <th>Researcher</th>\n",
       "      <th>ageF</th>\n",
       "    </tr>\n",
       "  </thead>\n",
       "  <tbody>\n",
       "    <tr>\n",
       "      <th>0</th>\n",
       "      <td>MCV4</td>\n",
       "      <td>Men01</td>\n",
       "      <td>F</td>\n",
       "      <td>AA</td>\n",
       "      <td>41</td>\n",
       "      <td>day0</td>\n",
       "      <td>0</td>\n",
       "      <td>0.35</td>\n",
       "      <td>0.01</td>\n",
       "      <td>5.46</td>\n",
       "      <td>...</td>\n",
       "      <td>5.24</td>\n",
       "      <td>0.06</td>\n",
       "      <td>2.21</td>\n",
       "      <td>0.010</td>\n",
       "      <td>12.39</td>\n",
       "      <td>2916.0</td>\n",
       "      <td>1.3</td>\n",
       "      <td>36.0</td>\n",
       "      <td>Maria</td>\n",
       "      <td>&gt; = 33</td>\n",
       "    </tr>\n",
       "    <tr>\n",
       "      <th>4</th>\n",
       "      <td>MCV4</td>\n",
       "      <td>Men03</td>\n",
       "      <td>F</td>\n",
       "      <td>AA</td>\n",
       "      <td>27</td>\n",
       "      <td>day0</td>\n",
       "      <td>0</td>\n",
       "      <td>0.61</td>\n",
       "      <td>0.01</td>\n",
       "      <td>0.01</td>\n",
       "      <td>...</td>\n",
       "      <td>0.59</td>\n",
       "      <td>0.09</td>\n",
       "      <td>2.58</td>\n",
       "      <td>1.144</td>\n",
       "      <td>12.35</td>\n",
       "      <td>8748.0</td>\n",
       "      <td>1.3</td>\n",
       "      <td>1.3</td>\n",
       "      <td>Maria</td>\n",
       "      <td>&lt;33</td>\n",
       "    </tr>\n",
       "    <tr>\n",
       "      <th>8</th>\n",
       "      <td>MCV4</td>\n",
       "      <td>Men06</td>\n",
       "      <td>F</td>\n",
       "      <td>AA</td>\n",
       "      <td>40</td>\n",
       "      <td>day0</td>\n",
       "      <td>0</td>\n",
       "      <td>0.89</td>\n",
       "      <td>0.01</td>\n",
       "      <td>51.36</td>\n",
       "      <td>...</td>\n",
       "      <td>53.53</td>\n",
       "      <td>1.65</td>\n",
       "      <td>11.34</td>\n",
       "      <td>2.862</td>\n",
       "      <td>48.53</td>\n",
       "      <td>78732.0</td>\n",
       "      <td>8748.0</td>\n",
       "      <td>4.0</td>\n",
       "      <td>Maria</td>\n",
       "      <td>&gt; = 33</td>\n",
       "    </tr>\n",
       "    <tr>\n",
       "      <th>12</th>\n",
       "      <td>MCV4</td>\n",
       "      <td>Men07</td>\n",
       "      <td>F</td>\n",
       "      <td>AA</td>\n",
       "      <td>33</td>\n",
       "      <td>day0</td>\n",
       "      <td>0</td>\n",
       "      <td>0.50</td>\n",
       "      <td>0.90</td>\n",
       "      <td>0.01</td>\n",
       "      <td>...</td>\n",
       "      <td>0.85</td>\n",
       "      <td>0.12</td>\n",
       "      <td>2.95</td>\n",
       "      <td>0.576</td>\n",
       "      <td>1.81</td>\n",
       "      <td>972.0</td>\n",
       "      <td>108.0</td>\n",
       "      <td>1.3</td>\n",
       "      <td>Maria</td>\n",
       "      <td>&gt; = 33</td>\n",
       "    </tr>\n",
       "    <tr>\n",
       "      <th>16</th>\n",
       "      <td>MCV4</td>\n",
       "      <td>Men08</td>\n",
       "      <td>F</td>\n",
       "      <td>AA</td>\n",
       "      <td>29</td>\n",
       "      <td>day0</td>\n",
       "      <td>0</td>\n",
       "      <td>0.36</td>\n",
       "      <td>0.37</td>\n",
       "      <td>0.01</td>\n",
       "      <td>...</td>\n",
       "      <td>1.84</td>\n",
       "      <td>0.05</td>\n",
       "      <td>1.73</td>\n",
       "      <td>1.740</td>\n",
       "      <td>3.26</td>\n",
       "      <td>2916.0</td>\n",
       "      <td>36.0</td>\n",
       "      <td>1.3</td>\n",
       "      <td>Maria</td>\n",
       "      <td>&lt;33</td>\n",
       "    </tr>\n",
       "  </tbody>\n",
       "</table>\n",
       "<p>5 rows × 21 columns</p>\n",
       "</div>"
      ],
      "text/plain": [
       "   Vaccine Subject Gender Race  Age Visit  Visit.Num  IgG1A  IgG1C  IgG2A  \\\n",
       "0     MCV4   Men01      F   AA   41  day0          0   0.35   0.01   5.46   \n",
       "4     MCV4   Men03      F   AA   27  day0          0   0.61   0.01   0.01   \n",
       "8     MCV4   Men06      F   AA   40  day0          0   0.89   0.01  51.36   \n",
       "12    MCV4   Men07      F   AA   33  day0          0   0.50   0.90   0.01   \n",
       "16    MCV4   Men08      F   AA   29  day0          0   0.36   0.37   0.01   \n",
       "\n",
       "    ...   IgGA  IgGC   IgMA   IgMC  Luminex.Anti.DT.IgGAU.ml  SBA.titerA  \\\n",
       "0   ...   5.24  0.06   2.21  0.010                     12.39      2916.0   \n",
       "4   ...   0.59  0.09   2.58  1.144                     12.35      8748.0   \n",
       "8   ...  53.53  1.65  11.34  2.862                     48.53     78732.0   \n",
       "12  ...   0.85  0.12   2.95  0.576                      1.81       972.0   \n",
       "16  ...   1.84  0.05   1.73  1.740                      3.26      2916.0   \n",
       "\n",
       "    SBA.titerA.Dutch  SBA.titerC  Researcher    ageF  \n",
       "0                1.3        36.0       Maria  > = 33  \n",
       "4                1.3         1.3       Maria     <33  \n",
       "8             8748.0         4.0       Maria  > = 33  \n",
       "12             108.0         1.3       Maria  > = 33  \n",
       "16              36.0         1.3       Maria     <33  \n",
       "\n",
       "[5 rows x 21 columns]"
      ]
     },
     "execution_count": 62,
     "metadata": {},
     "output_type": "execute_result"
    }
   ],
   "source": [
    "# Keeping only day0\n",
    "# This applies a 'True/False' mask (array of equal length to the df) using the condition \n",
    "# True if 'Visit' == \"day0\" else False\n",
    "ni_db_D0 = ni_db[ni_db['Visit'] == \"day0\"]\n",
    "# Printing a dataframe like print(ni_db_D0) will look less pretty than .head() or .tail()\n",
    "ni_db_D0.head()"
   ]
  },
  {
   "cell_type": "markdown",
   "id": "1924d3dd-2924-48e2-8cfc-8483573a3cfc",
   "metadata": {},
   "source": [
    "## **Example 7:** Descriptive Statistics\n",
    "### **7.1:** Continuous Data ###"
   ]
  },
  {
   "cell_type": "code",
   "execution_count": 68,
   "id": "95906e2f-0117-4e00-9bb1-f2bda51d31c9",
   "metadata": {},
   "outputs": [
    {
     "name": "stdout",
     "output_type": "stream",
     "text": [
      "Histogram of ages at day0\n"
     ]
    },
    {
     "name": "stderr",
     "output_type": "stream",
     "text": [
      "/Users/KevinBu/anaconda3/envs/jupyterlab/lib/python3.11/site-packages/seaborn/_oldcore.py:1119: FutureWarning: use_inf_as_na option is deprecated and will be removed in a future version. Convert inf values to NaN before operating instead.\n",
      "  with pd.option_context('mode.use_inf_as_na', True):\n"
     ]
    },
    {
     "data": {
      "text/plain": [
       "<Axes: xlabel='Age', ylabel='Count'>"
      ]
     },
     "execution_count": 68,
     "metadata": {},
     "output_type": "execute_result"
    },
    {
     "data": {
      "image/png": "[encoded data removed]",
      "text/plain": [
       "<Figure size 640x480 with 1 Axes>"
      ]
     },
     "metadata": {},
     "output_type": "display_data"
    }
   ],
   "source": [
    "### 7.1. Continuous Data -----\n",
    "# more specificially than ni_db.describe()\n",
    "# We will use age at Day0\n",
    "import seaborn as sns\n",
    "print(\"Histogram of ages at day0\")\n",
    "sns.histplot(data=ni_db_D0, x='Age')"
   ]
  },
  {
   "cell_type": "code",
   "execution_count": 69,
   "id": "5f0b91db-acb1-405d-a967-f047ef2a065e",
   "metadata": {},
   "outputs": [
    {
     "name": "stdout",
     "output_type": "stream",
     "text": [
      "QQ plot of ages at day0\n"
     ]
    },
    {
     "data": {
      "image/png": "[encoded data removed]",
      "text/plain": [
       "<Figure size 640x480 with 1 Axes>"
      ]
     },
     "metadata": {},
     "output_type": "display_data"
    }
   ],
   "source": [
    "print(\"QQ plot of ages at day0\")\n",
    "import matplotlib.pyplot as plt\n",
    "import scipy.stats as stats\n",
    "\n",
    "# Q-Q plot\n",
    "# plt is a matplotlib object that you can modify and put data on top of\n",
    "stats.probplot(x=ni_db_D0['Age'], dist=\"norm\", plot=plt)\n",
    "plt.title('Q-Q Plot')\n",
    "plt.show()"
   ]
  },
  {
   "cell_type": "code",
   "execution_count": 91,
   "id": "be1f1b1c-142f-40bb-aa51-f0a35c2f3f7c",
   "metadata": {},
   "outputs": [
    {
     "name": "stdout",
     "output_type": "stream",
     "text": [
      "count    30.000000\n",
      "mean     33.166667\n",
      "std       6.395491\n",
      "min      22.000000\n",
      "25%      28.000000\n",
      "50%      33.500000\n",
      "75%      38.750000\n",
      "max      44.000000\n",
      "Name: Age, dtype: float64\n",
      "\n",
      "Variance: 39.538888888888884\n",
      "\n",
      "Skewness: -0.004856430129436846\n",
      "\n",
      "Kurtosis: -1.322432545141782\n"
     ]
    },
    {
     "name": "stderr",
     "output_type": "stream",
     "text": [
      "/Users/KevinBu/anaconda3/envs/jupyterlab/lib/python3.11/site-packages/seaborn/_oldcore.py:1119: FutureWarning: use_inf_as_na option is deprecated and will be removed in a future version. Convert inf values to NaN before operating instead.\n",
      "  with pd.option_context('mode.use_inf_as_na', True):\n",
      "/Users/KevinBu/anaconda3/envs/jupyterlab/lib/python3.11/site-packages/seaborn/_oldcore.py:1119: FutureWarning: use_inf_as_na option is deprecated and will be removed in a future version. Convert inf values to NaN before operating instead.\n",
      "  with pd.option_context('mode.use_inf_as_na', True):\n"
     ]
    },
    {
     "data": {
      "image/png": "[encoded data removed]",
      "text/plain": [
       "<Figure size 640x480 with 1 Axes>"
      ]
     },
     "metadata": {},
     "output_type": "display_data"
    }
   ],
   "source": [
    "# Other statistics\n",
    "import numpy as np\n",
    "print(ni_db_D0.Age.describe())\n",
    "# Can also do x = ni_db_D0.Age and compute np.median(x), np.mean(x), np.var(x), np.std(x)\n",
    "\n",
    "# Calculate variance\n",
    "print(f\"\\nVariance: {np.var(ni_db_D0.Age)}\")\n",
    "\n",
    "# Calculate skewness\n",
    "import scipy.stats as stats\n",
    "print(f\"\\nSkewness: {stats.skew(ni_db_D0.Age)}\")\n",
    "\n",
    "# Calculate kurtosis\n",
    "print(f\"\\nKurtosis: {stats.kurtosis(ni_db_D0.Age)}\")\n",
    "\n",
    "# View how distributions differ by grouping variable\n",
    "import seaborn as sns\n",
    "sns.boxplot(data=ni_db_D0, x='Gender', y='Age', palette='viridis')\n",
    "# overlay a swarmplot to see points\n",
    "sns.swarmplot(data=ni_db_D0, x='Gender', y='Age', color='gray')\n",
    "sns.despine()"
   ]
  },
  {
   "cell_type": "markdown",
   "id": "79b176f7-ee00-410d-bd58-49263bbe1d89",
   "metadata": {},
   "source": [
    "### **7.2:** Categorical Data ###"
   ]
  },
  {
   "cell_type": "code",
   "execution_count": 93,
   "id": "f66e8e8a-8c1a-4113-84d5-882690bafc05",
   "metadata": {},
   "outputs": [
    {
     "name": "stdout",
     "output_type": "stream",
     "text": [
      "a. To get distribution of values:\n",
      "Gender\n",
      "F    20\n",
      "M    10\n",
      "Name: count, dtype: int64\n",
      "\n",
      "b. To get that in frequency form:\n",
      "Gender\n",
      "F    0.666667\n",
      "M    0.333333\n",
      "Name: proportion, dtype: float64\n",
      "\n",
      "c. Constructing a barplot\n"
     ]
    },
    {
     "data": {
      "image/png": "[encoded data removed]",
      "text/plain": [
       "<Figure size 640x480 with 1 Axes>"
      ]
     },
     "metadata": {},
     "output_type": "display_data"
    }
   ],
   "source": [
    "# One-way tables\n",
    "print(\"a. To get distribution of values:\")\n",
    "print(ni_db_D0.Gender.value_counts())\n",
    "\n",
    "print(\"\\nb. To get that in frequency form:\")\n",
    "print(ni_db_D0.Gender.value_counts(normalize=True))\n",
    "\n",
    "print(\"\\nc. Constructing a barplot\")\n",
    "freq_table = ni_db_D0['Gender'].value_counts().reset_index()\n",
    "freq_table.columns = ['category', 'frequency']\n",
    "\n",
    "# Create a barplot\n",
    "sns.barplot(x='category', y='frequency', data=freq_table, palette='viridis')\n",
    "plt.title('Frequency of Values in Column')\n",
    "plt.xlabel('Category')\n",
    "plt.ylabel('Frequency')\n",
    "plt.show()"
   ]
  },
  {
   "cell_type": "markdown",
   "id": "f53cfd2b-a52b-4e79-9b39-fd0d4242352b",
   "metadata": {},
   "source": [
    "## Practice! ##"
   ]
  },
  {
   "cell_type": "code",
   "execution_count": null,
   "id": "51dc8493-f577-4a4e-ae82-34830c9f2bb6",
   "metadata": {},
   "outputs": [],
   "source": [
    "###################################################################\n",
    "######################### PRACTICE ################################\n",
    "###################################################################\n",
    "\n",
    "# 1. Read ni.2789.clinical.csv into ni.db data.frame.\n",
    "\n",
    "# 2. How many patients are in your study at Day 0?\n",
    "\n",
    "# 3. How many patients are in MCV4 and MPSV4 vaccination groups at Day 0?\n",
    "\n",
    "# 4. Explore the distribution of Age (variable: Age) at Day 0.\n",
    "\n",
    "# 5. Does the distribution of Age at Day 0 look different for males and females?\n",
    "\n",
    "# 6. Create a new variable \"SBA.titerA.Cat\" so that if SBA.titerA is less than 2916 it will have the\n",
    "# value of \"low\", and \"high\" otherwise. How many patients had 'low' SBA.titerA at day 0? \n",
    "\n",
    "# 7. **Challenge** How many patients had a 'high' SBA.titerA at day 30?"
   ]
  },
  {
   "cell_type": "code",
   "execution_count": 119,
   "id": "c559a33a-742f-4cac-8c98-37c141a2648e",
   "metadata": {},
   "outputs": [
    {
     "data": {
      "text/html": [
       "<div>\n",
       "<style scoped>\n",
       "    .dataframe tbody tr th:only-of-type {\n",
       "        vertical-align: middle;\n",
       "    }\n",
       "\n",
       "    .dataframe tbody tr th {\n",
       "        vertical-align: top;\n",
       "    }\n",
       "\n",
       "    .dataframe thead th {\n",
       "        text-align: right;\n",
       "    }\n",
       "</style>\n",
       "<table border=\"1\" class=\"dataframe\">\n",
       "  <thead>\n",
       "    <tr style=\"text-align: right;\">\n",
       "      <th></th>\n",
       "      <th>Vaccine</th>\n",
       "      <th>Subject</th>\n",
       "      <th>Gender</th>\n",
       "      <th>Race</th>\n",
       "      <th>Age</th>\n",
       "      <th>Visit</th>\n",
       "      <th>Visit.Num</th>\n",
       "      <th>IgG1A</th>\n",
       "      <th>IgG1C</th>\n",
       "      <th>IgG2A</th>\n",
       "      <th>IgG2C</th>\n",
       "      <th>IgGA</th>\n",
       "      <th>IgGC</th>\n",
       "      <th>IgMA</th>\n",
       "      <th>IgMC</th>\n",
       "      <th>Luminex.Anti.DT.IgGAU.ml</th>\n",
       "      <th>SBA.titerA</th>\n",
       "      <th>SBA.titerA.Dutch</th>\n",
       "      <th>SBA.titerC</th>\n",
       "    </tr>\n",
       "  </thead>\n",
       "  <tbody>\n",
       "    <tr>\n",
       "      <th>0</th>\n",
       "      <td>MCV4</td>\n",
       "      <td>Men01</td>\n",
       "      <td>F</td>\n",
       "      <td>AA</td>\n",
       "      <td>41</td>\n",
       "      <td>day0</td>\n",
       "      <td>0</td>\n",
       "      <td>0.35</td>\n",
       "      <td>0.01</td>\n",
       "      <td>5.46</td>\n",
       "      <td>0.01</td>\n",
       "      <td>5.24</td>\n",
       "      <td>0.06</td>\n",
       "      <td>2.21</td>\n",
       "      <td>0.010</td>\n",
       "      <td>12.39</td>\n",
       "      <td>2916.0</td>\n",
       "      <td>1.3</td>\n",
       "      <td>36.0</td>\n",
       "    </tr>\n",
       "    <tr>\n",
       "      <th>1</th>\n",
       "      <td>MCV4</td>\n",
       "      <td>Men01</td>\n",
       "      <td>F</td>\n",
       "      <td>AA</td>\n",
       "      <td>41</td>\n",
       "      <td>day7</td>\n",
       "      <td>7</td>\n",
       "      <td>NaN</td>\n",
       "      <td>NaN</td>\n",
       "      <td>NaN</td>\n",
       "      <td>NaN</td>\n",
       "      <td>NaN</td>\n",
       "      <td>NaN</td>\n",
       "      <td>4.68</td>\n",
       "      <td>8.040</td>\n",
       "      <td>429.65</td>\n",
       "      <td>NaN</td>\n",
       "      <td>NaN</td>\n",
       "      <td>NaN</td>\n",
       "    </tr>\n",
       "    <tr>\n",
       "      <th>2</th>\n",
       "      <td>MCV4</td>\n",
       "      <td>Men01</td>\n",
       "      <td>F</td>\n",
       "      <td>AA</td>\n",
       "      <td>41</td>\n",
       "      <td>day30</td>\n",
       "      <td>30</td>\n",
       "      <td>11.84</td>\n",
       "      <td>37.80</td>\n",
       "      <td>49.93</td>\n",
       "      <td>10.50</td>\n",
       "      <td>36.72</td>\n",
       "      <td>14.72</td>\n",
       "      <td>7.77</td>\n",
       "      <td>21.960</td>\n",
       "      <td>708.25</td>\n",
       "      <td>26244.0</td>\n",
       "      <td>2916.0</td>\n",
       "      <td>26244.0</td>\n",
       "    </tr>\n",
       "    <tr>\n",
       "      <th>3</th>\n",
       "      <td>MCV4</td>\n",
       "      <td>Men01</td>\n",
       "      <td>F</td>\n",
       "      <td>AA</td>\n",
       "      <td>41</td>\n",
       "      <td>day180</td>\n",
       "      <td>180</td>\n",
       "      <td>NaN</td>\n",
       "      <td>NaN</td>\n",
       "      <td>NaN</td>\n",
       "      <td>NaN</td>\n",
       "      <td>27.61</td>\n",
       "      <td>2.99</td>\n",
       "      <td>NaN</td>\n",
       "      <td>NaN</td>\n",
       "      <td>NaN</td>\n",
       "      <td>8748.0</td>\n",
       "      <td>2916.0</td>\n",
       "      <td>26244.0</td>\n",
       "    </tr>\n",
       "    <tr>\n",
       "      <th>4</th>\n",
       "      <td>MCV4</td>\n",
       "      <td>Men03</td>\n",
       "      <td>F</td>\n",
       "      <td>AA</td>\n",
       "      <td>27</td>\n",
       "      <td>day0</td>\n",
       "      <td>0</td>\n",
       "      <td>0.61</td>\n",
       "      <td>0.01</td>\n",
       "      <td>0.01</td>\n",
       "      <td>0.01</td>\n",
       "      <td>0.59</td>\n",
       "      <td>0.09</td>\n",
       "      <td>2.58</td>\n",
       "      <td>1.144</td>\n",
       "      <td>12.35</td>\n",
       "      <td>8748.0</td>\n",
       "      <td>1.3</td>\n",
       "      <td>1.3</td>\n",
       "    </tr>\n",
       "  </tbody>\n",
       "</table>\n",
       "</div>"
      ],
      "text/plain": [
       "  Vaccine Subject Gender Race  Age   Visit  Visit.Num  IgG1A  IgG1C  IgG2A  \\\n",
       "0    MCV4   Men01      F   AA   41    day0          0   0.35   0.01   5.46   \n",
       "1    MCV4   Men01      F   AA   41    day7          7    NaN    NaN    NaN   \n",
       "2    MCV4   Men01      F   AA   41   day30         30  11.84  37.80  49.93   \n",
       "3    MCV4   Men01      F   AA   41  day180        180    NaN    NaN    NaN   \n",
       "4    MCV4   Men03      F   AA   27    day0          0   0.61   0.01   0.01   \n",
       "\n",
       "   IgG2C   IgGA   IgGC  IgMA    IgMC  Luminex.Anti.DT.IgGAU.ml  SBA.titerA  \\\n",
       "0   0.01   5.24   0.06  2.21   0.010                     12.39      2916.0   \n",
       "1    NaN    NaN    NaN  4.68   8.040                    429.65         NaN   \n",
       "2  10.50  36.72  14.72  7.77  21.960                    708.25     26244.0   \n",
       "3    NaN  27.61   2.99   NaN     NaN                       NaN      8748.0   \n",
       "4   0.01   0.59   0.09  2.58   1.144                     12.35      8748.0   \n",
       "\n",
       "   SBA.titerA.Dutch  SBA.titerC  \n",
       "0               1.3        36.0  \n",
       "1               NaN         NaN  \n",
       "2            2916.0     26244.0  \n",
       "3            2916.0     26244.0  \n",
       "4               1.3         1.3  "
      ]
     },
     "execution_count": 119,
     "metadata": {},
     "output_type": "execute_result"
    }
   ],
   "source": [
    "### Practice Answer Key\n",
    "# 1. Read in df\n",
    "import pandas as pd\n",
    "ni_db = pd.read_csv('/Users/KevinBu/Desktop/BIO6400/Python_Labs/Lab1_IntroPython_DescriptiveStats/ni.2789.clinical.csv')\n",
    "ni_db.head()"
   ]
  },
  {
   "cell_type": "code",
   "execution_count": 120,
   "id": "2894a6d9-ca38-477e-b1bb-746fd1489ad2",
   "metadata": {},
   "outputs": [
    {
     "name": "stdout",
     "output_type": "stream",
     "text": [
      "Visit\n",
      "day0      30\n",
      "day7      30\n",
      "day30     30\n",
      "day180    30\n",
      "Name: count, dtype: int64\n",
      "30\n"
     ]
    }
   ],
   "source": [
    "# 2. - there are 30 patients on day 7\n",
    "print(ni_db['Visit'].value_counts())\n",
    "ni_db_D0 = ni_db[ni_db['Visit'] == 'day0']\n",
    "print(len(ni_db_D0))"
   ]
  },
  {
   "cell_type": "code",
   "execution_count": 121,
   "id": "69c79167-09d3-4804-be4d-a8ec86207d1f",
   "metadata": {},
   "outputs": [
    {
     "data": {
      "text/plain": [
       "Vaccine\n",
       "MCV4     17\n",
       "MPSV4    13\n",
       "Name: count, dtype: int64"
      ]
     },
     "execution_count": 121,
     "metadata": {},
     "output_type": "execute_result"
    }
   ],
   "source": [
    "# 3. - 17 in MCV4 and 13 in MPSV\n",
    "ni_db_D0['Vaccine'].value_counts()"
   ]
  },
  {
   "cell_type": "code",
   "execution_count": 122,
   "id": "938557ba-173a-4722-a3f9-ecbc03c68e70",
   "metadata": {},
   "outputs": [
    {
     "name": "stdout",
     "output_type": "stream",
     "text": [
      "count    30.000000\n",
      "mean     33.166667\n",
      "std       6.395491\n",
      "min      22.000000\n",
      "25%      28.000000\n",
      "50%      33.500000\n",
      "75%      38.750000\n",
      "max      44.000000\n",
      "Name: Age, dtype: float64\n",
      "\n",
      "Variance: 39.538888888888884\n",
      "\n",
      "Skewness: -0.004856430129436846\n",
      "\n",
      "Kurtosis: -1.322432545141782\n"
     ]
    },
    {
     "name": "stderr",
     "output_type": "stream",
     "text": [
      "/Users/KevinBu/anaconda3/envs/jupyterlab/lib/python3.11/site-packages/seaborn/_oldcore.py:1119: FutureWarning: use_inf_as_na option is deprecated and will be removed in a future version. Convert inf values to NaN before operating instead.\n",
      "  with pd.option_context('mode.use_inf_as_na', True):\n"
     ]
    },
    {
     "data": {
      "image/png": "[encoded data removed]",
      "text/plain": [
       "<Figure size 640x480 with 1 Axes>"
      ]
     },
     "metadata": {},
     "output_type": "display_data"
    }
   ],
   "source": [
    "# 4. Explore the distribution\n",
    "print(ni_db_D0.Age.describe())\n",
    "sns.histplot(data=ni_db_D0, x='Age')\n",
    "\n",
    "# Calculate variance\n",
    "print(f\"\\nVariance: {np.var(ni_db_D0.Age)}\")\n",
    "\n",
    "# Calculate skewness\n",
    "import scipy.stats as stats\n",
    "print(f\"\\nSkewness: {stats.skew(ni_db_D0.Age)}\")\n",
    "\n",
    "# Calculate kurtosis\n",
    "print(f\"\\nKurtosis: {stats.kurtosis(ni_db_D0.Age)}\")"
   ]
  },
  {
   "cell_type": "code",
   "execution_count": 123,
   "id": "58a614fd-f82a-4dbb-a3d3-0c65fa98e39c",
   "metadata": {},
   "outputs": [
    {
     "name": "stdout",
     "output_type": "stream",
     "text": [
      "Male ages:\n",
      "count    10.00000\n",
      "mean     33.40000\n",
      "std       7.61869\n",
      "min      22.00000\n",
      "25%      27.00000\n",
      "50%      36.50000\n",
      "75%      38.00000\n",
      "max      44.00000\n",
      "Name: Age, dtype: float64\n",
      "Female ages:\n",
      "count    20.000000\n",
      "mean     33.050000\n",
      "std       5.906954\n",
      "min      26.000000\n",
      "25%      28.000000\n",
      "50%      31.500000\n",
      "75%      39.250000\n",
      "max      43.000000\n",
      "Name: Age, dtype: float64\n"
     ]
    },
    {
     "name": "stderr",
     "output_type": "stream",
     "text": [
      "/Users/KevinBu/anaconda3/envs/jupyterlab/lib/python3.11/site-packages/seaborn/_oldcore.py:1119: FutureWarning: use_inf_as_na option is deprecated and will be removed in a future version. Convert inf values to NaN before operating instead.\n",
      "  with pd.option_context('mode.use_inf_as_na', True):\n",
      "/Users/KevinBu/anaconda3/envs/jupyterlab/lib/python3.11/site-packages/seaborn/_oldcore.py:1119: FutureWarning: use_inf_as_na option is deprecated and will be removed in a future version. Convert inf values to NaN before operating instead.\n",
      "  with pd.option_context('mode.use_inf_as_na', True):\n"
     ]
    },
    {
     "data": {
      "image/png": "[encoded data removed]",
      "text/plain": [
       "<Figure size 640x480 with 1 Axes>"
      ]
     },
     "metadata": {},
     "output_type": "display_data"
    }
   ],
   "source": [
    "# 5. -  median age seems to be lower for the females (31.5 years old) than males (36.5 years old);\n",
    "# however, the mean age looks similar in the two groups and is around 33 years.\n",
    "# Compute means of males and females separately\n",
    "print('Male ages:')\n",
    "print(ni_db_D0[ni_db_D0['Gender'] == 'M'].Age.describe())\n",
    "print('Female ages:')\n",
    "print(ni_db_D0[ni_db_D0['Gender'] == 'F'].Age.describe())\n",
    "\n",
    "import seaborn as sns\n",
    "sns.boxplot(data=ni_db_D0, x='Gender', y='Age', palette='viridis')\n",
    "# overlay a swarmplot to see points\n",
    "sns.swarmplot(data=ni_db_D0, x='Gender', y='Age', color='gray')\n",
    "sns.despine()"
   ]
  },
  {
   "cell_type": "code",
   "execution_count": 131,
   "id": "a8c4c1e1-51cd-47cb-934c-88a6da4cb914",
   "metadata": {},
   "outputs": [
    {
     "data": {
      "text/plain": [
       "SBA.titerA.Cat\n",
       "high    17\n",
       "low     13\n",
       "Name: count, dtype: int64"
      ]
     },
     "execution_count": 131,
     "metadata": {},
     "output_type": "execute_result"
    }
   ],
   "source": [
    "# 6. 17 - high and 13 - low SBA titer\n",
    "ni_db_D0.loc[:,'SBA.titerA.Cat'] = ni_db_D0['SBA.titerA'].apply(lambda x: 'low' if x < 2916 else 'high')\n",
    "ni_db_D0['SBA.titerA.Cat'].value_counts()"
   ]
  },
  {
   "cell_type": "code",
   "execution_count": 134,
   "id": "a3a71578-9dbe-4ffe-a0e2-83763634ab6d",
   "metadata": {},
   "outputs": [
    {
     "name": "stderr",
     "output_type": "stream",
     "text": [
      "/var/folders/48/kjsfkfqd4z1f5svhyyb5kvdw0000gn/T/ipykernel_3018/373705928.py:3: SettingWithCopyWarning: \n",
      "A value is trying to be set on a copy of a slice from a DataFrame.\n",
      "Try using .loc[row_indexer,col_indexer] = value instead\n",
      "\n",
      "See the caveats in the documentation: https://pandas.pydata.org/pandas-docs/stable/user_guide/indexing.html#returning-a-view-versus-a-copy\n",
      "  ni_db_D30.loc[:,'SBA.titerA.Cat'] = ni_db_D30.loc[:,'SBA.titerA'].apply(lambda x: 'low' if x < 2916 else 'high')\n"
     ]
    },
    {
     "data": {
      "text/plain": [
       "SBA.titerA.Cat\n",
       "high    29\n",
       "low      1\n",
       "Name: count, dtype: int64"
      ]
     },
     "execution_count": 134,
     "metadata": {},
     "output_type": "execute_result"
    }
   ],
   "source": [
    "# **Challenge** 7. How about at day 30? Compare to day 0 - this what you expect?\n",
    "ni_db_D30 = ni_db[ni_db['Visit'] == 'day30']\n",
    "ni_db_D30.loc[:,'SBA.titerA.Cat'] = ni_db_D30.loc['SBA.titerA'].apply(lambda x: 'low' if x < 2916 else 'high')\n",
    "ni_db_D30['SBA.titerA.Cat'].value_counts()"
   ]
  },
  {
   "cell_type": "code",
   "execution_count": null,
   "id": "191dbb9a-0841-4726-9e41-c2b62ee85069",
   "metadata": {},
   "outputs": [],
   "source": []
  }
 ],
 "metadata": {
  "kernelspec": {
   "display_name": "Python 3 (ipykernel)",
   "language": "python",
   "name": "python3"
  },
  "language_info": {
   "codemirror_mode": {
    "name": "ipython",
    "version": 3
   },
   "file_extension": ".py",
   "mimetype": "text/x-python",
   "name": "python",
   "nbconvert_exporter": "python",
   "pygments_lexer": "ipython3",
   "version": "3.11.7"
  }
 },
 "nbformat": 4,
 "nbformat_minor": 5
}
